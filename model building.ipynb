{
 "cells": [
  {
   "cell_type": "code",
   "execution_count": 1,
   "id": "9ebaa9e1",
   "metadata": {},
   "outputs": [],
   "source": [
    "import numpy as np\n",
    "import pandas as pd \n",
    "import os \n",
    "import pickle \n",
    "from FE import age_feature, load_pkl"
   ]
  },
  {
   "cell_type": "code",
   "execution_count": 2,
   "id": "2ac8e99a",
   "metadata": {},
   "outputs": [],
   "source": [
    "gender_enc = load_pkl('gender.pkl')\n",
    "location_enc = load_pkl('location.pkl')\n",
    "age_group_enc = load_pkl('age_group.pkl')"
   ]
  },
  {
   "cell_type": "code",
   "execution_count": 9,
   "id": "889b9943",
   "metadata": {},
   "outputs": [
    {
     "data": {
      "text/html": [
       "<div>\n",
       "<style scoped>\n",
       "    .dataframe tbody tr th:only-of-type {\n",
       "        vertical-align: middle;\n",
       "    }\n",
       "\n",
       "    .dataframe tbody tr th {\n",
       "        vertical-align: top;\n",
       "    }\n",
       "\n",
       "    .dataframe thead th {\n",
       "        text-align: right;\n",
       "    }\n",
       "</style>\n",
       "<table border=\"1\" class=\"dataframe\">\n",
       "  <thead>\n",
       "    <tr style=\"text-align: right;\">\n",
       "      <th></th>\n",
       "      <th>CustomerID</th>\n",
       "      <th>Name</th>\n",
       "      <th>Age</th>\n",
       "      <th>Gender</th>\n",
       "      <th>Location</th>\n",
       "      <th>Subscription_Length_Months</th>\n",
       "      <th>Monthly_Bill</th>\n",
       "      <th>Total_Usage_GB</th>\n",
       "      <th>Churn</th>\n",
       "      <th>Age_group</th>\n",
       "    </tr>\n",
       "  </thead>\n",
       "  <tbody>\n",
       "    <tr>\n",
       "      <th>0</th>\n",
       "      <td>1</td>\n",
       "      <td>Customer_1</td>\n",
       "      <td>63</td>\n",
       "      <td>1</td>\n",
       "      <td>2</td>\n",
       "      <td>17</td>\n",
       "      <td>73.36</td>\n",
       "      <td>236</td>\n",
       "      <td>0</td>\n",
       "      <td>2</td>\n",
       "    </tr>\n",
       "    <tr>\n",
       "      <th>1</th>\n",
       "      <td>2</td>\n",
       "      <td>Customer_2</td>\n",
       "      <td>62</td>\n",
       "      <td>0</td>\n",
       "      <td>4</td>\n",
       "      <td>1</td>\n",
       "      <td>48.76</td>\n",
       "      <td>172</td>\n",
       "      <td>0</td>\n",
       "      <td>2</td>\n",
       "    </tr>\n",
       "    <tr>\n",
       "      <th>2</th>\n",
       "      <td>3</td>\n",
       "      <td>Customer_3</td>\n",
       "      <td>24</td>\n",
       "      <td>0</td>\n",
       "      <td>2</td>\n",
       "      <td>5</td>\n",
       "      <td>85.47</td>\n",
       "      <td>460</td>\n",
       "      <td>0</td>\n",
       "      <td>0</td>\n",
       "    </tr>\n",
       "    <tr>\n",
       "      <th>3</th>\n",
       "      <td>4</td>\n",
       "      <td>Customer_4</td>\n",
       "      <td>36</td>\n",
       "      <td>0</td>\n",
       "      <td>3</td>\n",
       "      <td>3</td>\n",
       "      <td>97.94</td>\n",
       "      <td>297</td>\n",
       "      <td>1</td>\n",
       "      <td>0</td>\n",
       "    </tr>\n",
       "    <tr>\n",
       "      <th>4</th>\n",
       "      <td>5</td>\n",
       "      <td>Customer_5</td>\n",
       "      <td>46</td>\n",
       "      <td>0</td>\n",
       "      <td>3</td>\n",
       "      <td>19</td>\n",
       "      <td>58.14</td>\n",
       "      <td>266</td>\n",
       "      <td>0</td>\n",
       "      <td>1</td>\n",
       "    </tr>\n",
       "  </tbody>\n",
       "</table>\n",
       "</div>"
      ],
      "text/plain": [
       "   CustomerID        Name  Age  Gender  Location  Subscription_Length_Months  \\\n",
       "0           1  Customer_1   63       1         2                          17   \n",
       "1           2  Customer_2   62       0         4                           1   \n",
       "2           3  Customer_3   24       0         2                           5   \n",
       "3           4  Customer_4   36       0         3                           3   \n",
       "4           5  Customer_5   46       0         3                          19   \n",
       "\n",
       "   Monthly_Bill  Total_Usage_GB  Churn  Age_group  \n",
       "0         73.36             236      0          2  \n",
       "1         48.76             172      0          2  \n",
       "2         85.47             460      0          0  \n",
       "3         97.94             297      1          0  \n",
       "4         58.14             266      0          1  "
      ]
     },
     "execution_count": 9,
     "metadata": {},
     "output_type": "execute_result"
    }
   ],
   "source": [
    "dfname = 'customer_churn_large_dataset.xlsx'\n",
    "df = pd.read_excel(dfname)\n",
    "df['Age_group'] = df.Age.apply(age_feature)\n",
    "df['Age_group'] = age_group_enc.transform(df.Age_group)\n",
    "df['Gender'] = gender_enc.transform(df.Gender)\n",
    "df['Location'] = location_enc.transform(df.Location)\n",
    "df.head()"
   ]
  },
  {
   "cell_type": "code",
   "execution_count": 10,
   "id": "4dbe7e34",
   "metadata": {},
   "outputs": [],
   "source": [
    "from sklearn.model_selection import train_test_split"
   ]
  },
  {
   "cell_type": "code",
   "execution_count": 11,
   "id": "4c3e9293",
   "metadata": {},
   "outputs": [],
   "source": [
    "cols_to_drop = ['CustomerID', 'Name', 'Churn']\n",
    "x = df.drop(cols_to_drop, axis = 1)\n",
    "y = df.Churn"
   ]
  },
  {
   "cell_type": "markdown",
   "id": "2e77911a",
   "metadata": {},
   "source": [
    "#### Train Val Test Split Distribution\n",
    "\n",
    "> Train - 90% (90,000)\n",
    "\n",
    "> Validation - 9% (9,000)\n",
    "\n",
    "> Test - 1% (1,000)"
   ]
  },
  {
   "cell_type": "code",
   "execution_count": 12,
   "id": "4163845e",
   "metadata": {},
   "outputs": [],
   "source": [
    "x_train, x_test, y_train, y_test = train_test_split(x, y, test_size = .1, stratify = y)\n",
    "x_val, x_test, y_val, y_test = train_test_split(x_test, y_test, test_size = .1, stratify = y_test)"
   ]
  },
  {
   "cell_type": "code",
   "execution_count": 13,
   "id": "65448fb3",
   "metadata": {},
   "outputs": [
    {
     "data": {
      "text/plain": [
       "(90000, 9000, 1000)"
      ]
     },
     "execution_count": 13,
     "metadata": {},
     "output_type": "execute_result"
    }
   ],
   "source": [
    "x_train.shape[0], x_val.shape[0], x_test.shape[0]"
   ]
  },
  {
   "cell_type": "code",
   "execution_count": 14,
   "id": "bcfec6a2",
   "metadata": {},
   "outputs": [
    {
     "data": {
      "image/png": "[encoded data removed]",
      "text/plain": [
       "<Figure size 1200x600 with 3 Axes>"
      ]
     },
     "metadata": {},
     "output_type": "display_data"
    }
   ],
   "source": [
    "from cutils import plot_pie\n",
    "import matplotlib.pyplot as plt \n",
    "from FE import save_pkl\n",
    "\n",
    "plt.figure(figsize = (12, 6))\n",
    "plt.tight_layout()\n",
    "\n",
    "plt.subplot(1,3, 1)\n",
    "plt.title('Train Churn distribution')\n",
    "plot_pie(y_train, y_train.shape[0])\n",
    "\n",
    "plt.subplot(1,3, 2)\n",
    "plt.title('Validation Churn distribution')\n",
    "plot_pie(y_val, y_val.shape[0])\n",
    "\n",
    "plt.subplot(1,3, 3)\n",
    "plt.title('Test Churn distribution')\n",
    "plot_pie(y_test, y_test.shape[0])"
   ]
  },
  {
   "cell_type": "code",
   "execution_count": 15,
   "id": "9780c589",
   "metadata": {},
   "outputs": [],
   "source": [
    "# pd.concat([x_test, y_test], axis = 1).to_csv('test_churn_data.csv', index = False)"
   ]
  },
  {
   "cell_type": "code",
   "execution_count": 25,
   "id": "83b41177",
   "metadata": {},
   "outputs": [],
   "source": [
    "import time\n",
    "import concurrent\n",
    "from sklearn.linear_model import LogisticRegression\n",
    "from sklearn.ensemble import RandomForestClassifier, AdaBoostClassifier\n",
    "from sklearn.naive_bayes import GaussianNB\n",
    "from sklearn.tree import DecisionTreeClassifier\n",
    "from xgboost import XGBClassifier\n",
    "from sklearn.pipeline import Pipeline, make_pipeline\n",
    "from sklearn.preprocessing import StandardScaler\n",
    "from sklearn.svm import SVC\n",
    "from sklearn.metrics import accuracy_score, f1_score, precision_score, recall_score, auc\n",
    "\n",
    "def show_metrics(y_test, y_pred):\n",
    "    acc = accuracy_score(y_test, y_pred)\n",
    "    f1 = f1_score(y_test, y_pred)\n",
    "    pr = precision_score(y_test, y_pred)\n",
    "    re = recall_score(y_test, y_pred)\n",
    "    print(pd.DataFrame({\n",
    "        'Accuracy'  : [acc],\n",
    "        'F1 score'  : [f1],\n",
    "        'Precision' : [pr],\n",
    "        'Recall'    : [re]\n",
    "    }).T)\n",
    "\n",
    "def train_models(train_data, val_data):\n",
    "    \n",
    "    X_train, y_train = train_data\n",
    "    X_test, y_test = val_data\n",
    "    algorithms = [LogisticRegression, SVC, GaussianNB, DecisionTreeClassifier, RandomForestClassifier, AdaBoostClassifier, XGBClassifier]\n",
    "\n",
    "    def train(Model) :\n",
    "        pipe = Pipeline([('scaler', StandardScaler()), ('svc', Model())])\n",
    "        model = pipe.fit(X_train, y_train)\n",
    "        y_pred = model.predict(X_test)\n",
    "        print(f' {Model.__name__} '.center(70, '='))\n",
    "        show_metrics(y_test, y_pred)\n",
    "        print()\n",
    "        \n",
    "    for Model in algorithms:\n",
    "        start_time = time.time()\n",
    "        train(Model)\n",
    "        end_time = time.time()\n",
    "        print(f'Training time : {(end_time - start_time) * 1000} ms')\n",
    "        print(''.center(100, '='))"
   ]
  },
  {
   "cell_type": "markdown",
   "id": "50f5e7c1",
   "metadata": {},
   "source": [
    "#### let's try to train multiple models and get the result with base parameters "
   ]
  },
  {
   "cell_type": "code",
   "execution_count": 21,
   "id": "4bb9b3c1",
   "metadata": {},
   "outputs": [
    {
     "name": "stdout",
     "output_type": "stream",
     "text": [
      "========================= LogisticRegression =========================\n",
      "                  0\n",
      "Accuracy   0.496778\n",
      "F1 score   0.380692\n",
      "Precision  0.491352\n",
      "Recall     0.310714\n",
      "\n",
      "Training time : 42.861223220825195 ms\n",
      "====================================================================================================\n",
      "================================ SVC =================================\n",
      "                  0\n",
      "Accuracy   0.498778\n",
      "F1 score   0.455127\n",
      "Precision  0.495920\n",
      "Recall     0.420536\n",
      "\n",
      "Training time : 318272.3824977875 ms\n",
      "====================================================================================================\n",
      "============================= GaussianNB =============================\n",
      "                  0\n",
      "Accuracy   0.498111\n",
      "F1 score   0.374983\n",
      "Precision  0.493265\n",
      "Recall     0.302455\n",
      "\n",
      "Training time : 55.18841743469238 ms\n",
      "====================================================================================================\n",
      "======================= DecisionTreeClassifier =======================\n",
      "                  0\n",
      "Accuracy   0.502222\n",
      "F1 score   0.495154\n",
      "Precision  0.500000\n",
      "Recall     0.490402\n",
      "\n",
      "Training time : 735.2588176727295 ms\n",
      "====================================================================================================\n",
      "======================= RandomForestClassifier =======================\n",
      "                  0\n",
      "Accuracy   0.491778\n",
      "F1 score   0.477377\n",
      "Precision  0.488998\n",
      "Recall     0.466295\n",
      "\n",
      "Training time : 13430.299043655396 ms\n",
      "====================================================================================================\n",
      "========================= AdaBoostClassifier =========================\n",
      "                  0\n",
      "Accuracy   0.508778\n",
      "F1 score   0.450466\n",
      "Precision  0.508275\n",
      "Recall     0.404464\n",
      "\n",
      "Training time : 2093.189001083374 ms\n",
      "====================================================================================================\n",
      "=========================== XGBClassifier ============================\n",
      "                  0\n",
      "Accuracy   0.499889\n",
      "F1 score   0.482108\n",
      "Precision  0.497507\n",
      "Recall     0.467634\n",
      "\n",
      "Training time : 1275.855302810669 ms\n",
      "====================================================================================================\n"
     ]
    }
   ],
   "source": [
    "train_data = [x_train, y_train]\n",
    "val_data = [x_val, y_val]\n",
    "train_models(train_data, val_data)"
   ]
  },
  {
   "cell_type": "markdown",
   "id": "75064297",
   "metadata": {},
   "source": [
    "##### By averaging both accuracy and f1-score for all these above models, `Decision Tree` performed well compared to the rest\n",
    "\n",
    "> Just like we figured out from EDA, we need more features to improve the accuracy of the model \n",
    "\n",
    "> No matter how many feature we engineer just from this data, we will only increase the multicolinearity between our independent features"
   ]
  },
  {
   "cell_type": "code",
   "execution_count": 28,
   "id": "5fdaca4a",
   "metadata": {},
   "outputs": [
    {
     "data": {
      "text/html": [
       "<style>#sk-container-id-1 {color: black;background-color: white;}#sk-container-id-1 pre{padding: 0;}#sk-container-id-1 div.sk-toggleable {background-color: white;}#sk-container-id-1 label.sk-toggleable__label {cursor: pointer;display: block;width: 100%;margin-bottom: 0;padding: 0.3em;box-sizing: border-box;text-align: center;}#sk-container-id-1 label.sk-toggleable__label-arrow:before {content: \"▸\";float: left;margin-right: 0.25em;color: #696969;}#sk-container-id-1 label.sk-toggleable__label-arrow:hover:before {color: black;}#sk-container-id-1 div.sk-estimator:hover label.sk-toggleable__label-arrow:before {color: black;}#sk-container-id-1 div.sk-toggleable__content {max-height: 0;max-width: 0;overflow: hidden;text-align: left;background-color: #f0f8ff;}#sk-container-id-1 div.sk-toggleable__content pre {margin: 0.2em;color: black;border-radius: 0.25em;background-color: #f0f8ff;}#sk-container-id-1 input.sk-toggleable__control:checked~div.sk-toggleable__content {max-height: 200px;max-width: 100%;overflow: auto;}#sk-container-id-1 input.sk-toggleable__control:checked~label.sk-toggleable__label-arrow:before {content: \"▾\";}#sk-container-id-1 div.sk-estimator input.sk-toggleable__control:checked~label.sk-toggleable__label {background-color: #d4ebff;}#sk-container-id-1 div.sk-label input.sk-toggleable__control:checked~label.sk-toggleable__label {background-color: #d4ebff;}#sk-container-id-1 input.sk-hidden--visually {border: 0;clip: rect(1px 1px 1px 1px);clip: rect(1px, 1px, 1px, 1px);height: 1px;margin: -1px;overflow: hidden;padding: 0;position: absolute;width: 1px;}#sk-container-id-1 div.sk-estimator {font-family: monospace;background-color: #f0f8ff;border: 1px dotted black;border-radius: 0.25em;box-sizing: border-box;margin-bottom: 0.5em;}#sk-container-id-1 div.sk-estimator:hover {background-color: #d4ebff;}#sk-container-id-1 div.sk-parallel-item::after {content: \"\";width: 100%;border-bottom: 1px solid gray;flex-grow: 1;}#sk-container-id-1 div.sk-label:hover label.sk-toggleable__label {background-color: #d4ebff;}#sk-container-id-1 div.sk-serial::before {content: \"\";position: absolute;border-left: 1px solid gray;box-sizing: border-box;top: 0;bottom: 0;left: 50%;z-index: 0;}#sk-container-id-1 div.sk-serial {display: flex;flex-direction: column;align-items: center;background-color: white;padding-right: 0.2em;padding-left: 0.2em;position: relative;}#sk-container-id-1 div.sk-item {position: relative;z-index: 1;}#sk-container-id-1 div.sk-parallel {display: flex;align-items: stretch;justify-content: center;background-color: white;position: relative;}#sk-container-id-1 div.sk-item::before, #sk-container-id-1 div.sk-parallel-item::before {content: \"\";position: absolute;border-left: 1px solid gray;box-sizing: border-box;top: 0;bottom: 0;left: 50%;z-index: -1;}#sk-container-id-1 div.sk-parallel-item {display: flex;flex-direction: column;z-index: 1;position: relative;background-color: white;}#sk-container-id-1 div.sk-parallel-item:first-child::after {align-self: flex-end;width: 50%;}#sk-container-id-1 div.sk-parallel-item:last-child::after {align-self: flex-start;width: 50%;}#sk-container-id-1 div.sk-parallel-item:only-child::after {width: 0;}#sk-container-id-1 div.sk-dashed-wrapped {border: 1px dashed gray;margin: 0 0.4em 0.5em 0.4em;box-sizing: border-box;padding-bottom: 0.4em;background-color: white;}#sk-container-id-1 div.sk-label label {font-family: monospace;font-weight: bold;display: inline-block;line-height: 1.2em;}#sk-container-id-1 div.sk-label-container {text-align: center;}#sk-container-id-1 div.sk-container {/* jupyter's `normalize.less` sets `[hidden] { display: none; }` but bootstrap.min.css set `[hidden] { display: none !important; }` so we also need the `!important` here to be able to override the default hidden behavior on the sphinx rendered scikit-learn.org. See: https://github.com/scikit-learn/scikit-learn/issues/21755 */display: inline-block !important;position: relative;}#sk-container-id-1 div.sk-text-repr-fallback {display: none;}</style><div id=\"sk-container-id-1\" class=\"sk-top-container\"><div class=\"sk-text-repr-fallback\"><pre>Pipeline(steps=[(&#x27;standardscaler&#x27;, StandardScaler()),\n",
       "                (&#x27;gridsearchcv&#x27;,\n",
       "                 GridSearchCV(cv=3,\n",
       "                              estimator=XGBClassifier(base_score=None,\n",
       "                                                      booster=None,\n",
       "                                                      callbacks=None,\n",
       "                                                      colsample_bylevel=None,\n",
       "                                                      colsample_bynode=None,\n",
       "                                                      colsample_bytree=None,\n",
       "                                                      early_stopping_rounds=None,\n",
       "                                                      enable_categorical=False,\n",
       "                                                      eval_metric=None,\n",
       "                                                      feature_types=None,\n",
       "                                                      gamma=None, gpu_id=None,\n",
       "                                                      grow_policy=None,\n",
       "                                                      i...\n",
       "                                                      max_leaves=None,\n",
       "                                                      min_child_weight=None,\n",
       "                                                      missing=nan,\n",
       "                                                      monotone_constraints=None,\n",
       "                                                      n_estimators=100,\n",
       "                                                      n_jobs=None,\n",
       "                                                      num_parallel_tree=None,\n",
       "                                                      predictor=None,\n",
       "                                                      random_state=None, ...),\n",
       "                              n_jobs=-1,\n",
       "                              param_grid={&#x27;gamma&#x27;: [0, 0.1, 0.2],\n",
       "                                          &#x27;learning_rate&#x27;: [0.1, 0.01, 0.001],\n",
       "                                          &#x27;max_depth&#x27;: [3, 4, 5],\n",
       "                                          &#x27;n_estimators&#x27;: [100, 200, 300],\n",
       "                                          &#x27;reg_alpha&#x27;: [0, 0.1, 0.2],\n",
       "                                          &#x27;reg_lambda&#x27;: [0, 0.1, 0.2]},\n",
       "                              scoring=&#x27;accuracy&#x27;))])</pre><b>In a Jupyter environment, please rerun this cell to show the HTML representation or trust the notebook. <br />On GitHub, the HTML representation is unable to render, please try loading this page with nbviewer.org.</b></div><div class=\"sk-container\" hidden><div class=\"sk-item sk-dashed-wrapped\"><div class=\"sk-label-container\"><div class=\"sk-label sk-toggleable\"><input class=\"sk-toggleable__control sk-hidden--visually\" id=\"sk-estimator-id-1\" type=\"checkbox\" ><label for=\"sk-estimator-id-1\" class=\"sk-toggleable__label sk-toggleable__label-arrow\">Pipeline</label><div class=\"sk-toggleable__content\"><pre>Pipeline(steps=[(&#x27;standardscaler&#x27;, StandardScaler()),\n",
       "                (&#x27;gridsearchcv&#x27;,\n",
       "                 GridSearchCV(cv=3,\n",
       "                              estimator=XGBClassifier(base_score=None,\n",
       "                                                      booster=None,\n",
       "                                                      callbacks=None,\n",
       "                                                      colsample_bylevel=None,\n",
       "                                                      colsample_bynode=None,\n",
       "                                                      colsample_bytree=None,\n",
       "                                                      early_stopping_rounds=None,\n",
       "                                                      enable_categorical=False,\n",
       "                                                      eval_metric=None,\n",
       "                                                      feature_types=None,\n",
       "                                                      gamma=None, gpu_id=None,\n",
       "                                                      grow_policy=None,\n",
       "                                                      i...\n",
       "                                                      max_leaves=None,\n",
       "                                                      min_child_weight=None,\n",
       "                                                      missing=nan,\n",
       "                                                      monotone_constraints=None,\n",
       "                                                      n_estimators=100,\n",
       "                                                      n_jobs=None,\n",
       "                                                      num_parallel_tree=None,\n",
       "                                                      predictor=None,\n",
       "                                                      random_state=None, ...),\n",
       "                              n_jobs=-1,\n",
       "                              param_grid={&#x27;gamma&#x27;: [0, 0.1, 0.2],\n",
       "                                          &#x27;learning_rate&#x27;: [0.1, 0.01, 0.001],\n",
       "                                          &#x27;max_depth&#x27;: [3, 4, 5],\n",
       "                                          &#x27;n_estimators&#x27;: [100, 200, 300],\n",
       "                                          &#x27;reg_alpha&#x27;: [0, 0.1, 0.2],\n",
       "                                          &#x27;reg_lambda&#x27;: [0, 0.1, 0.2]},\n",
       "                              scoring=&#x27;accuracy&#x27;))])</pre></div></div></div><div class=\"sk-serial\"><div class=\"sk-item\"><div class=\"sk-estimator sk-toggleable\"><input class=\"sk-toggleable__control sk-hidden--visually\" id=\"sk-estimator-id-2\" type=\"checkbox\" ><label for=\"sk-estimator-id-2\" class=\"sk-toggleable__label sk-toggleable__label-arrow\">StandardScaler</label><div class=\"sk-toggleable__content\"><pre>StandardScaler()</pre></div></div></div><div class=\"sk-item sk-dashed-wrapped\"><div class=\"sk-label-container\"><div class=\"sk-label sk-toggleable\"><input class=\"sk-toggleable__control sk-hidden--visually\" id=\"sk-estimator-id-3\" type=\"checkbox\" ><label for=\"sk-estimator-id-3\" class=\"sk-toggleable__label sk-toggleable__label-arrow\">gridsearchcv: GridSearchCV</label><div class=\"sk-toggleable__content\"><pre>GridSearchCV(cv=3,\n",
       "             estimator=XGBClassifier(base_score=None, booster=None,\n",
       "                                     callbacks=None, colsample_bylevel=None,\n",
       "                                     colsample_bynode=None,\n",
       "                                     colsample_bytree=None,\n",
       "                                     early_stopping_rounds=None,\n",
       "                                     enable_categorical=False, eval_metric=None,\n",
       "                                     feature_types=None, gamma=None,\n",
       "                                     gpu_id=None, grow_policy=None,\n",
       "                                     importance_type=None,\n",
       "                                     interaction_constraints=None,\n",
       "                                     learning_rate=None,...\n",
       "                                     max_leaves=None, min_child_weight=None,\n",
       "                                     missing=nan, monotone_constraints=None,\n",
       "                                     n_estimators=100, n_jobs=None,\n",
       "                                     num_parallel_tree=None, predictor=None,\n",
       "                                     random_state=None, ...),\n",
       "             n_jobs=-1,\n",
       "             param_grid={&#x27;gamma&#x27;: [0, 0.1, 0.2],\n",
       "                         &#x27;learning_rate&#x27;: [0.1, 0.01, 0.001],\n",
       "                         &#x27;max_depth&#x27;: [3, 4, 5],\n",
       "                         &#x27;n_estimators&#x27;: [100, 200, 300],\n",
       "                         &#x27;reg_alpha&#x27;: [0, 0.1, 0.2],\n",
       "                         &#x27;reg_lambda&#x27;: [0, 0.1, 0.2]},\n",
       "             scoring=&#x27;accuracy&#x27;)</pre></div></div></div><div class=\"sk-parallel\"><div class=\"sk-parallel-item\"><div class=\"sk-item\"><div class=\"sk-label-container\"><div class=\"sk-label sk-toggleable\"><input class=\"sk-toggleable__control sk-hidden--visually\" id=\"sk-estimator-id-4\" type=\"checkbox\" ><label for=\"sk-estimator-id-4\" class=\"sk-toggleable__label sk-toggleable__label-arrow\">estimator: XGBClassifier</label><div class=\"sk-toggleable__content\"><pre>XGBClassifier(base_score=None, booster=None, callbacks=None,\n",
       "              colsample_bylevel=None, colsample_bynode=None,\n",
       "              colsample_bytree=None, early_stopping_rounds=None,\n",
       "              enable_categorical=False, eval_metric=None, feature_types=None,\n",
       "              gamma=None, gpu_id=None, grow_policy=None, importance_type=None,\n",
       "              interaction_constraints=None, learning_rate=None, max_bin=None,\n",
       "              max_cat_threshold=None, max_cat_to_onehot=None,\n",
       "              max_delta_step=None, max_depth=None, max_leaves=None,\n",
       "              min_child_weight=None, missing=nan, monotone_constraints=None,\n",
       "              n_estimators=100, n_jobs=None, num_parallel_tree=None,\n",
       "              predictor=None, random_state=None, ...)</pre></div></div></div><div class=\"sk-serial\"><div class=\"sk-item\"><div class=\"sk-estimator sk-toggleable\"><input class=\"sk-toggleable__control sk-hidden--visually\" id=\"sk-estimator-id-5\" type=\"checkbox\" ><label for=\"sk-estimator-id-5\" class=\"sk-toggleable__label sk-toggleable__label-arrow\">XGBClassifier</label><div class=\"sk-toggleable__content\"><pre>XGBClassifier(base_score=None, booster=None, callbacks=None,\n",
       "              colsample_bylevel=None, colsample_bynode=None,\n",
       "              colsample_bytree=None, early_stopping_rounds=None,\n",
       "              enable_categorical=False, eval_metric=None, feature_types=None,\n",
       "              gamma=None, gpu_id=None, grow_policy=None, importance_type=None,\n",
       "              interaction_constraints=None, learning_rate=None, max_bin=None,\n",
       "              max_cat_threshold=None, max_cat_to_onehot=None,\n",
       "              max_delta_step=None, max_depth=None, max_leaves=None,\n",
       "              min_child_weight=None, missing=nan, monotone_constraints=None,\n",
       "              n_estimators=100, n_jobs=None, num_parallel_tree=None,\n",
       "              predictor=None, random_state=None, ...)</pre></div></div></div></div></div></div></div></div></div></div></div></div>"
      ],
      "text/plain": [
       "Pipeline(steps=[('standardscaler', StandardScaler()),\n",
       "                ('gridsearchcv',\n",
       "                 GridSearchCV(cv=3,\n",
       "                              estimator=XGBClassifier(base_score=None,\n",
       "                                                      booster=None,\n",
       "                                                      callbacks=None,\n",
       "                                                      colsample_bylevel=None,\n",
       "                                                      colsample_bynode=None,\n",
       "                                                      colsample_bytree=None,\n",
       "                                                      early_stopping_rounds=None,\n",
       "                                                      enable_categorical=False,\n",
       "                                                      eval_metric=None,\n",
       "                                                      feature_types=None,\n",
       "                                                      gamma=None, gpu_id=None,\n",
       "                                                      grow_policy=None,\n",
       "                                                      i...\n",
       "                                                      max_leaves=None,\n",
       "                                                      min_child_weight=None,\n",
       "                                                      missing=nan,\n",
       "                                                      monotone_constraints=None,\n",
       "                                                      n_estimators=100,\n",
       "                                                      n_jobs=None,\n",
       "                                                      num_parallel_tree=None,\n",
       "                                                      predictor=None,\n",
       "                                                      random_state=None, ...),\n",
       "                              n_jobs=-1,\n",
       "                              param_grid={'gamma': [0, 0.1, 0.2],\n",
       "                                          'learning_rate': [0.1, 0.01, 0.001],\n",
       "                                          'max_depth': [3, 4, 5],\n",
       "                                          'n_estimators': [100, 200, 300],\n",
       "                                          'reg_alpha': [0, 0.1, 0.2],\n",
       "                                          'reg_lambda': [0, 0.1, 0.2]},\n",
       "                              scoring='accuracy'))])"
      ]
     },
     "execution_count": 28,
     "metadata": {},
     "output_type": "execute_result"
    }
   ],
   "source": [
    "from sklearn.model_selection import GridSearchCV\n",
    "\n",
    "param_grid = {\n",
    "    'n_estimators': [100, 200, 300],\n",
    "    'max_depth': [3, 4, 5],\n",
    "    'learning_rate': [0.1, 0.01, 0.001],\n",
    "    'gamma': [0, 0.1, 0.2],\n",
    "    'reg_alpha': [0, 0.1, 0.2],\n",
    "    'reg_lambda': [0, 0.1, 0.2],\n",
    "}\n",
    "\n",
    "xgb = XGBClassifier()\n",
    "clf =  make_pipeline(StandardScaler(),\n",
    "                      GridSearchCV(estimator=xgb, param_grid=param_grid, scoring='accuracy', cv=3, n_jobs=-1))\n",
    "clf.fit(x_train, y_train)\n",
    "\n",
    "# best_params = pipe.best_params_\n",
    "# best_score = pipe.best_score_"
   ]
  },
  {
   "cell_type": "code",
   "execution_count": 38,
   "id": "b881ecde",
   "metadata": {},
   "outputs": [
    {
     "data": {
      "text/plain": [
       "0.504"
      ]
     },
     "execution_count": 38,
     "metadata": {},
     "output_type": "execute_result"
    }
   ],
   "source": [
    "clf.score(x_val, y_val)"
   ]
  },
  {
   "cell_type": "code",
   "execution_count": 39,
   "id": "988d5dae",
   "metadata": {},
   "outputs": [
    {
     "name": "stdout",
     "output_type": "stream",
     "text": [
      "Saved the data to pickles\\xgb_model.pkl\n"
     ]
    }
   ],
   "source": [
    "from FE import save_pkl\n",
    "\n",
    "save_pkl(clf, 'xgb_model.pkl')"
   ]
  },
  {
   "cell_type": "code",
   "execution_count": 52,
   "id": "513d7067",
   "metadata": {},
   "outputs": [
    {
     "data": {
      "image/png": "[encoded data removed]",
      "text/plain": [
       "<Figure size 640x480 with 2 Axes>"
      ]
     },
     "metadata": {},
     "output_type": "display_data"
    }
   ],
   "source": [
    "from sklearn.metrics import confusion_matrix\n",
    "import seaborn as sns \n",
    "\n",
    "y_pred = clf.predict(x_test)\n",
    "cm = confusion_matrix(y_test, y_pred)\n",
    "sns.heatmap(cm, fmt = '.0f', annot = True)\n",
    "plt.yticks(ticks=[0, 1], labels=['True Class 0', 'True Class 1'], rotation = 'horizontal')\n",
    "plt.xticks(ticks=[0, 1], labels=['Predicted Class 0', 'Predicted Class 1']);"
   ]
  },
  {
   "cell_type": "code",
   "execution_count": null,
   "id": "ec2a524a",
   "metadata": {},
   "outputs": [],
   "source": []
  }
 ],
 "metadata": {
  "kernelspec": {
   "display_name": "churn",
   "language": "python",
   "name": "churn"
  },
  "language_info": {
   "codemirror_mode": {
    "name": "ipython",
    "version": 3
   },
   "file_extension": ".py",
   "mimetype": "text/x-python",
   "name": "python",
   "nbconvert_exporter": "python",
   "pygments_lexer": "ipython3",
   "version": "3.11.5"
  }
 },
 "nbformat": 4,
 "nbformat_minor": 5
}
